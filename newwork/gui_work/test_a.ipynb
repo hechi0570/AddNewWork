{
 "cells": [
  {
   "cell_type": "code",
   "execution_count": 1,
   "metadata": {},
   "outputs": [],
   "source": [
    "import os"
   ]
  },
  {
   "cell_type": "code",
   "execution_count": 4,
   "metadata": {},
   "outputs": [],
   "source": [
    "from pathlib import Path"
   ]
  },
  {
   "cell_type": "code",
   "execution_count": 2,
   "metadata": {},
   "outputs": [],
   "source": [
    "os.chdir('D:/')"
   ]
  },
  {
   "cell_type": "code",
   "execution_count": 6,
   "metadata": {},
   "outputs": [
    {
     "name": "stdout",
     "output_type": "stream",
     "text": [
      "$RECYCLE.BIN\n",
      "add_wrok.xmind\n",
      "bbb.xlsm\n",
      "Books\n",
      "Config.Msi\n",
      "DATA\n",
      "DownLoad\n",
      "Lucy\n",
      "Me\n",
      "MyProject\n",
      "Program Files\n",
      "Program Files (x86)\n",
      "Python3网络爬虫开发实战（第二版）.pdf\n",
      "random\n",
      "Recovery\n",
      "System Volume Information\n",
      "TEM\n",
      "Work\n",
      "共享文件\n",
      "简历\n",
      "迅雷下载\n"
     ]
    }
   ],
   "source": [
    "for f in os.listdir():\n",
    "    print(f)\n",
    "    f = Path(f)"
   ]
  },
  {
   "cell_type": "code",
   "execution_count": 16,
   "metadata": {},
   "outputs": [
    {
     "name": "stdout",
     "output_type": "stream",
     "text": [
      "$RECYCLE.BIN\n",
      "Books\n",
      "Config.Msi\n",
      "DATA\n",
      "DownLoad\n",
      "Lucy\n",
      "Me\n",
      "MyProject\n",
      "Program Files\n",
      "Program Files (x86)\n",
      "random\n",
      "Recovery\n",
      "System Volume Information\n",
      "TEM\n",
      "Work\n",
      "共享文件\n",
      "简历\n",
      "迅雷下载\n"
     ]
    }
   ],
   "source": [
    "for f in Path().iterdir():\n",
    "    if f.is_dir():\n",
    "        print(f)"
   ]
  },
  {
   "cell_type": "code",
   "execution_count": 12,
   "metadata": {},
   "outputs": [
    {
     "data": {
      "text/plain": [
       "[WindowsPath('迅雷下载/奇异博士2：疯狂多元宇宙.mp4'),\n",
       " WindowsPath('迅雷下载/杀戮都市0.2016.BD1080P.日语中字.mp4'),\n",
       " WindowsPath('迅雷下载/龙之家族S1')]"
      ]
     },
     "execution_count": 12,
     "metadata": {},
     "output_type": "execute_result"
    }
   ],
   "source": [
    "list(f.iterdir())"
   ]
  }
 ],
 "metadata": {
  "kernelspec": {
   "display_name": "Python 3",
   "language": "python",
   "name": "python3"
  },
  "language_info": {
   "codemirror_mode": {
    "name": "ipython",
    "version": 3
   },
   "file_extension": ".py",
   "mimetype": "text/x-python",
   "name": "python",
   "nbconvert_exporter": "python",
   "pygments_lexer": "ipython3",
   "version": "3.9.5 (default, May 18 2021, 14:42:02) [MSC v.1916 64 bit (AMD64)]"
  },
  "orig_nbformat": 4,
  "vscode": {
   "interpreter": {
    "hash": "d4720525adc5230f4ad899ad688ad2d68fedb1f984a63a0f3271e12109c5e02e"
   }
  }
 },
 "nbformat": 4,
 "nbformat_minor": 2
}
